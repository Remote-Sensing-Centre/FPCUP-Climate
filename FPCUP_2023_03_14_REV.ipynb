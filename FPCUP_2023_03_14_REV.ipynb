{
 "cells": [
  {
   "cell_type": "markdown",
   "id": "b631a24b",
   "metadata": {},
   "source": [
    "\n",
    "![alternatvie text](data:image/png;base64,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)\n"
   ]
  },
  {
   "cell_type": "markdown",
   "id": "878d17f4",
   "metadata": {},
   "source": [
    "# FPCUP: Development of downstream applications supporting Sectoral Information system under Copernicus Climate Change Service\n",
    "\n",
    "### Katarzyna Goch, Marcin Kluczek \n",
    "\n",
    "#### Institute of Geodesy and Cartography. Warsaw"
   ]
  },
  {
   "cell_type": "markdown",
   "id": "93d9b50b",
   "metadata": {
    "scrolled": true
   },
   "source": [
    "##### Uncomment the following line to install [geemap](https://geemap.org) if needed. Add if statement for installing geemap on the client-side if not installed yet"
   ]
  },
  {
   "cell_type": "code",
   "execution_count": null,
   "id": "f3396f2c",
   "metadata": {
    "scrolled": true
   },
   "outputs": [],
   "source": [
    "# !pip install geemap"
   ]
  },
  {
   "cell_type": "markdown",
   "id": "71bf3af7",
   "metadata": {},
   "source": [
    "### Import libraries"
   ]
  },
  {
   "cell_type": "code",
   "execution_count": null,
   "id": "30a3ab2a",
   "metadata": {
    "scrolled": true
   },
   "outputs": [],
   "source": [
    "import ee\n",
    "import geemap\n",
    "import geojson"
   ]
  },
  {
   "cell_type": "markdown",
   "id": "eee030c6",
   "metadata": {},
   "source": [
    "### Load the map"
   ]
  },
  {
   "cell_type": "code",
   "execution_count": null,
   "id": "a594e208",
   "metadata": {},
   "outputs": [],
   "source": [
    "Map = geemap.Map()\n",
    "Map"
   ]
  },
  {
   "cell_type": "markdown",
   "id": "87b481f6",
   "metadata": {},
   "source": [
    "### Define periods for Sentinel-1 and Sentinel-2 data"
   ]
  },
  {
   "cell_type": "code",
   "execution_count": null,
   "id": "783910e7",
   "metadata": {},
   "outputs": [],
   "source": [
    "def getS1period(year):\n",
    "    return [''.join([str(year),'-05-01']),''.join([str(year),'-08-31'])]\n",
    "\n",
    "def getS2periods(year):\n",
    "    return [[''.join([str(year),'-05-01']),''.join([str(year),'-05-30'])],\n",
    "            [''.join([str(year),'-07-01']),''.join([str(year),'-07-31'])],\n",
    "            [''.join([str(year),'-10-01']),''.join([str(year),'-10-31'])]]"
   ]
  },
  {
   "cell_type": "markdown",
   "id": "fa86a5fa",
   "metadata": {},
   "source": [
    "### Select first and last year of analysis"
   ]
  },
  {
   "cell_type": "code",
   "execution_count": null,
   "id": "eeaf5949",
   "metadata": {},
   "outputs": [],
   "source": [
    "startYear = 2015\n",
    "endYear = 2020"
   ]
  },
  {
   "cell_type": "markdown",
   "id": "d01986e3",
   "metadata": {},
   "source": [
    "### Create GEOJSON object that will define AOI (here: example for Karczew area)"
   ]
  },
  {
   "cell_type": "code",
   "execution_count": null,
   "id": "52afdd48",
   "metadata": {
    "scrolled": true
   },
   "outputs": [],
   "source": [
    "aoi_geojson = {\n",
    "  \"type\": \"FeatureCollection\",\n",
    "  \"features\": [\n",
    "    {\n",
    "      \"type\": \"Feature\",\n",
    "      \"properties\": {},\n",
    "      \"geometry\": {\n",
    "        \"type\": \"Polygon\",\n",
    "        \"coordinates\": [\n",
    "          [\n",
    "            [\n",
    "              21.22180938720703,\n",
    "              52.06526157080301\n",
    "            ],\n",
    "            [\n",
    "              21.28129005432129,\n",
    "              52.06526157080301\n",
    "            ],\n",
    "            [\n",
    "              21.28129005432129,\n",
    "              52.086310073072184\n",
    "            ],\n",
    "            [\n",
    "              21.22180938720703,\n",
    "              52.086310073072184\n",
    "            ],\n",
    "            [\n",
    "              21.22180938720703,\n",
    "              52.06526157080301\n",
    "            ]\n",
    "          ]\n",
    "        ]\n",
    "      }\n",
    "    }\n",
    "  ]\n",
    "}\n",
    "\n",
    "# Create GEE geometry AOI object\n",
    "coords = aoi_geojson['features'][0]['geometry']['coordinates']\n",
    "aoi = ee.Geometry.Polygon(coords)\n",
    "\n",
    "# Centre the map\n",
    "Map.centerObject(aoi)"
   ]
  },
  {
   "cell_type": "markdown",
   "id": "00de3c87",
   "metadata": {},
   "source": [
    "### Load polygons with NUTS2 regions, Open GeoJSON with NUTS2 boundaries (1:3 Million) \n",
    "#### source: https://ec.europa.eu/eurostat/web/gisco/geodata/reference-data/administrative-units-statistical-units/nuts"
   ]
  },
  {
   "cell_type": "code",
   "execution_count": null,
   "id": "405271ac",
   "metadata": {
    "scrolled": true
   },
   "outputs": [],
   "source": [
    "with open('NUTS_RG_03M_2021_4326_LEVL_2.geojson', encoding='UTF-8') as f:\n",
    "    gj = geojson.load(f)\n",
    "# From the GeoJSON collection, create a FeatureCollection object\n",
    "NUTS2 = ee.FeatureCollection(gj)\n",
    "# Add as a layer to the map\n",
    "Map.addLayer(NUTS2,{},'NUTS2')"
   ]
  },
  {
   "cell_type": "markdown",
   "id": "dc8761d2",
   "metadata": {},
   "source": [
    "#### Explanatory note\n",
    "The data model is fitted to [Corine Land Cover 2018 (CLC2018) dataset](https://developers.google.com/earth-engine/datasets/catalog/COPERNICUS_CORINE_V20_100m), referring to land cover / land use status of year 2018. CLC2018 is one of the datasets produced within the frame the [Corine Land Cover programme](https://land.copernicus.eu/pan-european/corine-land-cover)\n",
    "\n",
    "The classification algorithm is using radar and optical observations: \n",
    "- for radar data, C-band Synthetic Aperture Radar Ground Range Detected ([Sentinel-1 SAR GRD](https://developers.google.com/earth-engine/datasets/catalog/COPERNICUS_S1_GRD?hl=en)) observations for period May-August 2018 were used\n",
    "- for optical data, MultiSpectral Instrument, Level-2A ([Sentinel-2](https://developers.google.com/earth-engine/datasets/catalog/COPERNICUS_S2_SR)) observations for May-October 2018 were used."
   ]
  },
  {
   "cell_type": "markdown",
   "id": "064b955e",
   "metadata": {},
   "source": [
    "### Add Sentinel-2 observations for June 2018 <== they should be taken from 2017-2018 to match CLC2018 temporal resolution"
   ]
  },
  {
   "cell_type": "code",
   "execution_count": null,
   "id": "fb9957e4",
   "metadata": {},
   "outputs": [],
   "source": [
    "S2_trainingPeriods = getS2periods(2018)"
   ]
  },
  {
   "cell_type": "markdown",
   "id": "3636cf15",
   "metadata": {},
   "source": [
    "### Define functions"
   ]
  },
  {
   "cell_type": "code",
   "execution_count": null,
   "id": "b26c59c2",
   "metadata": {
    "scrolled": true
   },
   "outputs": [],
   "source": [
    "# Function to mask clouds using the Sentinel-2 QA band\n",
    "# @param {ee.Image} image Sentinel-2 image\n",
    "# @return {ee.Image} cloud masked Sentinel-2 image\n",
    "def maskS2clouds(image):\n",
    "  qa = image.select('QA60')\n",
    "\n",
    "  # Bits 10 and 11 are clouds and cirrus, respectively.\n",
    "  cloudBitMask = 1 << 10;\n",
    "  cirrusBitMask = 1 << 11;\n",
    "\n",
    "  # Both flags should be set to zero, indicating clear conditions.\n",
    "  mask = qa.bitwiseAnd(cloudBitMask).eq(0) and (qa.bitwiseAnd(cirrusBitMask).eq(0))\n",
    "\n",
    "  return image.updateMask(mask).divide(10000)\n",
    "\n",
    "# Function to add Sentinel-2 MSI: MultiSpectral Instrument, Level-2A data for 2018 for 10m resolution bands,\n",
    "# pre-filtered with .filter() to get less cloudy granules\n",
    "# @param {string} startDate starting date of the image collection acquisition in format 'yyy-mm-dd'\n",
    "# @param {string} endDate ending date of the image collection acquisition in format 'yyy-mm-dd'\n",
    "# @return {ee.ImageCollection} cloud masked Sentinel-2 images\n",
    "def getS2dataset10m(period):\n",
    "    S2_collection = ee.ImageCollection('COPERNICUS/S2_SR') \\\n",
    "                .filterDate(period[0],period[1]) \\\n",
    "                .filterBounds(aoi) \\\n",
    "                .filter(ee.Filter.lt('CLOUDY_PIXEL_PERCENTAGE',20)) \\\n",
    "                .map(maskS2clouds) \\\n",
    "                .select(['B4','B3','B2','B8'])\n",
    "    return S2_collection\n",
    "\n",
    "# Function to add Sentinel-2 MSI: MultiSpectral Instrument, Level-2A data for 2018 for 20m resolution bands,\n",
    "# pre-filtered with .filter() to get less cloudy granules\n",
    "# @param {string} startDate starting date of the image collection acquisition in format 'yyy-mm-dd'\n",
    "# @param {string} endDate ending date of the image collection acquisition in format 'yyy-mm-dd'\n",
    "# @return {ee.ImageCollection} cloud masked Sentinel-2 images\n",
    "def getS2dataset20m(period):\n",
    "    S2_collection = ee.ImageCollection('COPERNICUS/S2_SR') \\\n",
    "                .filterDate(period[0],period[1]) \\\n",
    "                .filterBounds(aoi) \\\n",
    "                .filter(ee.Filter.lt('CLOUDY_PIXEL_PERCENTAGE',20)) \\\n",
    "                .map(maskS2clouds) \\\n",
    "                .select(['B5','B6','B7','B8A'])\n",
    "    return S2_collection\n",
    "\n",
    "# Function to sort the least cloudy image\n",
    "# @param {ee.Image} image Sentinel-2 image\n",
    "# @return {ee.Image} least cloudy image sorted by 'CLOUD_COVER' attribute\n",
    "def getImageLeastClouds(img):\n",
    "    return ee.Image(img.sort('CLOUD_COVER').first())\n",
    "\n",
    "def getS2image(period, reproject=False, crs=None):\n",
    "    # Get the image collection for a selected period\n",
    "    if reproject is True:\n",
    "        imgCollection = getS2dataset20m(period)\n",
    "    else:\n",
    "        imgCollection = getS2dataset10m(period)\n",
    "    # Sort the least cloudy image\n",
    "    image = getImageLeastClouds(imgCollection)\n",
    "    # Reproject if needed\n",
    "    if reproject is True:\n",
    "        the_image = image.reproject(crs = crs, scale=10.0)\n",
    "    else:\n",
    "        the_image = image\n",
    "        \n",
    "    return the_image\n",
    "\n",
    "def getS2_bandNames():\n",
    "    S2bands10m = [\n",
    "        'S2_p1_B4','S2_p1_B3','S2_p1_B2','S2_p1_B8',\n",
    "        'S2_p2_B4','S2_p2_B3','S2_p2_B2','S2_p2_B8',\n",
    "        'S2_p3_B4','S2_p3_B3','S2_p3_B2','S2_p3_B8']\n",
    "    S2bands20_to_10m = [\n",
    "        'S2_p1_B5','S2_p1_B6','S2_p1_B7','S2_p1_B8A',\n",
    "        'S2_p2_B5','S2_p2_B6','S2_p2_B7','S2_p2_B8A',\n",
    "        'S2_p3_B5','S2_p3_B6','S2_p3_B7','S2_p3_B8A']\n",
    "    \n",
    "    return S2bands10m, S2bands20_to_10m\n",
    "\n",
    "# Function to get a Sentinel-2 image composite in 10 m resolution for a specified period\n",
    "# @param {list} S2_trainingPeriods liist of list containing start date and end date of analysis in format ['YYYY-MM-DD','YYYY-MM-DD']\n",
    "# @return {ee.Image} a composite S2 image reprojected to 10.0 m resolution\n",
    "def createS2compositeImage(S2_trainingPeriods):\n",
    "    # Get the least cloudy image from bands with 10m resolution for months April, July and October\n",
    "    S2_image_p1_10m = getS2image(S2_trainingPeriods[0], reproject=False) # problem\n",
    "    S2_image_p2_10m = getS2image(S2_trainingPeriods[1], reproject=False)\n",
    "    S2_image_p3_10m = getS2image(S2_trainingPeriods[2], reproject=False)\n",
    "\n",
    "    # Get the least cloudy image from bands with 20m resolution for months April, July and October and reproject to 10m\n",
    "    S2_image_p1_20_to_10m = getS2image(S2_trainingPeriods[0], reproject=True, crs=crs)\n",
    "    S2_image_p2_20_to_10m = getS2image(S2_trainingPeriods[1], reproject=True, crs=crs)\n",
    "    S2_image_p3_20_to_10m = getS2image(S2_trainingPeriods[2], reproject=True, crs=crs)\n",
    "\n",
    "    # Get the names of the bands per native resolution\n",
    "    S2bands10m, S2bands20_to_10m = getS2_bandNames()\n",
    "    # Stack the images as bands in one image collection\n",
    "    S2_image_reprojected = ee.ImageCollection([S2_image_p1_10m,\n",
    "                                  S2_image_p2_10m,\n",
    "                                  S2_image_p3_10m,\n",
    "                                  S2_image_p1_20_to_10m,\n",
    "                                  S2_image_p2_20_to_10m,\n",
    "                                  S2_image_p3_20_to_10m]) \\\n",
    "                    .toBands() \\\n",
    "                    .rename(S2bands10m+S2bands20_to_10m) \\\n",
    "                    .clip(aoi)\n",
    "    return S2_image_reprojected"
   ]
  },
  {
   "cell_type": "markdown",
   "id": "66fb9a1b",
   "metadata": {},
   "source": [
    "### Sentinel-2 \n",
    "- Get the common projection for further analysis from 10m band of Sentinel-2 image\n",
    "- Get Sentinel-2 data for training."
   ]
  },
  {
   "cell_type": "code",
   "execution_count": null,
   "id": "f1af2e28",
   "metadata": {},
   "outputs": [],
   "source": [
    "proj = getS2dataset10m(S2_trainingPeriods[0]).select('B4').first().projection().getInfo()\n",
    "crs = proj['crs']\n",
    "\n",
    "S2_image_reprojected = createS2compositeImage(S2_trainingPeriods)"
   ]
  },
  {
   "cell_type": "markdown",
   "id": "ee8a3309",
   "metadata": {},
   "source": [
    "### Add S2 RGB for June to visually compare the classification results"
   ]
  },
  {
   "cell_type": "code",
   "execution_count": null,
   "id": "95a16088",
   "metadata": {},
   "outputs": [],
   "source": [
    "S2_image06_10m = getS2image(['2018-06-01','2018-06-30'], reproject=False)\n",
    "S2_RGB = {'min': 0.0, 'max': 0.3, 'bands': ['B4', 'B3', 'B2']}\n",
    "Map.addLayer(S2_image06_10m,S2_RGB,'S2 June 2018',False)"
   ]
  },
  {
   "cell_type": "markdown",
   "id": "78e7cc9d",
   "metadata": {},
   "source": [
    "### Add Sentinel-1 observations\n",
    "They should be taken from 2017-2018 to match CLC2018 temporal resolution"
   ]
  },
  {
   "cell_type": "code",
   "execution_count": null,
   "id": "fa56c756",
   "metadata": {
    "scrolled": false
   },
   "outputs": [],
   "source": [
    "# Select the period\n",
    "S1_training_period = getS1period(2018)\n",
    "\n",
    "# Function to add Sentinel-2 MSI: MultiSpectral Instrument, Level-2A data for 2018 for 10m resolution bands,\n",
    "# pre-filtered with .filter() to get less cloudy granules\n",
    "# @param {string} startDate starting date of the image collection acquisition in format 'yyy-mm-dd'\n",
    "# @param {string} endDate ending date of the image collection acquisition in format 'yyy-mm-dd'\n",
    "# @return {ee.ImageCollection} cloud masked Sentinel-2 images\n",
    "def getS1dataset(period):\n",
    "    S1_collection = ee.ImageCollection('COPERNICUS/S1_GRD') \\\n",
    "                .filterBounds(aoi) \\\n",
    "                .filterDate(period[0], period[1]) \\\n",
    "                .filter(ee.Filter.eq('instrumentMode', 'IW')) \\\n",
    "                .filter(ee.Filter.listContains('transmitterReceiverPolarisation', 'VH')) \\\n",
    "                .filter(ee.Filter.listContains('transmitterReceiverPolarisation', 'VV'))\n",
    "    return S1_collection\n",
    "\n",
    "# Function to get the median value of pixels\n",
    "# @param {ee.FeatureCollection} collection of Sentinel-1 images\n",
    "# @return {ee.Image} median value of pixels in the image collection\n",
    "def getMedian(featurecollection):\n",
    "    return featurecollection.median().clip(aoi)\n",
    "\n",
    "# Function to create a composite combining the three polarisation modes (VV, VH, and VV-VH)\n",
    "# @param {ee.Image} S1_image a Sentinel-1 images\n",
    "# @return {ee.Image} a composite S1 image with each polarisation mode stacked as a band\n",
    "\n",
    "# \"A three-band composite image, combining the three polarisation modes (VV, VH, and VV-VH), \n",
    "# has been reported optimal for land cover characterisation\" (Abdikan et al., 2014)\n",
    "def getS1compositeImage(S1_image):\n",
    "    return ee.ImageCollection([S1_image.select('VV'),\n",
    "                               S1_image.select('VH'),\n",
    "                               S1_image.select('VV').subtract(S1_image.select('VH'))]) \\\n",
    "                .toBands() \\\n",
    "                .rename(['VV','VH','VV-VH'])\n",
    "\n",
    "# Function to reproject an image to S2 resolution\n",
    "# @param {ee.Image} image an image\n",
    "# @return {ee.Image} an image reprojected to S1 image CRS and 10.0 m resolution\n",
    "def reproject_to_S2crs(image):\n",
    "    return image.reproject(crs = crs, scale=10.0)\n",
    "\n",
    "# Function to get a Sentinel-1 image composite in S2 resolution for specified period\n",
    "# @param {list} period_S1 start date and end date of analysis in format ['YYYY-MM-DD','YYYY-MM-DD']\n",
    "# @return {ee.Image} a composite S1 image reprojected to S2 image CRS and 10.0 m resolution\n",
    "def createS1compositeImage(period_S1):\n",
    "    # Sentinel-1 ground range detected images converted to decibels\n",
    "    S1GRD_dataset = getS1dataset(period_S1)\n",
    "    # Get the median value of pixels in the S1 collection\n",
    "    S1db_image = getMedian(S1GRD_dataset)\n",
    "    # Make composite image (VV,VH,VV-VH)\n",
    "    S1composite_image = getS1compositeImage(S1db_image)\n",
    "    # Reproject the composite to adjust to S2 CRS\n",
    "    return reproject_to_S2crs(S1composite_image)"
   ]
  },
  {
   "cell_type": "markdown",
   "id": "7dc04702",
   "metadata": {},
   "source": [
    "### Get Sentinel-1 data for training. "
   ]
  },
  {
   "cell_type": "code",
   "execution_count": null,
   "id": "a77b484b",
   "metadata": {},
   "outputs": [],
   "source": [
    "S1composite_image_reprojected = createS1compositeImage(S1_training_period)"
   ]
  },
  {
   "cell_type": "markdown",
   "id": "bd98dc56",
   "metadata": {},
   "source": [
    "### Create a composite from S1 composite and S2 images\n"
   ]
  },
  {
   "cell_type": "code",
   "execution_count": null,
   "id": "9752c36d",
   "metadata": {},
   "outputs": [],
   "source": [
    "def getS1S2composite(S1image, S2image):\n",
    "    # Get the names of the bands per native resolution\n",
    "    S2bands10m, S2bands20_to_10m = getS2_bandNames()\n",
    "    \n",
    "    return ee.ImageCollection([S1image,S2image]) \\\n",
    "                .toBands() \\\n",
    "                .rename(['S1_VV','S1_VH','S1_VV-VH'] + S2bands10m + S2bands20_to_10m)"
   ]
  },
  {
   "cell_type": "markdown",
   "id": "c64f25ba",
   "metadata": {},
   "source": [
    "### S-1 and S-2 stacked composite"
   ]
  },
  {
   "cell_type": "code",
   "execution_count": null,
   "id": "d132318a",
   "metadata": {},
   "outputs": [],
   "source": [
    "S12_image = getS1S2composite(S1composite_image_reprojected, S2_image_reprojected)"
   ]
  },
  {
   "cell_type": "markdown",
   "id": "7be0fe66",
   "metadata": {},
   "source": [
    "### Load CLC for year 2018, which will be used as a reference data for training (Temporal extent: 2017-2018)"
   ]
  },
  {
   "cell_type": "code",
   "execution_count": null,
   "id": "5747e736",
   "metadata": {
    "scrolled": false
   },
   "outputs": [],
   "source": [
    "clc2018 = ee.Image(\"COPERNICUS/CORINE/V20/100m/2018\").clip(aoi)"
   ]
  },
  {
   "cell_type": "markdown",
   "id": "d7523583",
   "metadata": {},
   "source": [
    "### Define reclassified CLC class table"
   ]
  },
  {
   "cell_type": "code",
   "execution_count": null,
   "id": "073fa28e",
   "metadata": {
    "scrolled": true
   },
   "outputs": [],
   "source": [
    "CLC_class_table = \"\"\"\n",
    "Value\tColor\tDescription\n",
    "0\tE6004D\tUrban fabric\n",
    "1\tFFA6FF\tGreen urban areas\n",
    "2\tFFFFA8\tAgricultural areas\n",
    "3\t80FF00\tForest and semi natural areas\n",
    "4\tA6A6FF\tWetlands\n",
    "5\t00CCF2\tWater bodies\n",
    "\"\"\"\n",
    "\n",
    "legend_dict = geemap.legend_from_ee(CLC_class_table)\n",
    "clc_recl_values = [ int(x[0]) for x in list(legend_dict.keys()) ]\n",
    "clc_recl_names = [ x[2:] for x in list(legend_dict.keys()) ]\n",
    "clc_recl_colors = [ legend_dict[x] for x in list(legend_dict.keys()) ]"
   ]
  },
  {
   "cell_type": "markdown",
   "id": "9d57f671",
   "metadata": {},
   "source": [
    "### Remap CLC values to simpler classification \n",
    "Source: https://gis.stackexchange.com/questions/317305/remap-with-number-limits-and-not-individual-values-in-gee"
   ]
  },
  {
   "cell_type": "code",
   "execution_count": null,
   "id": "1f660710",
   "metadata": {},
   "outputs": [],
   "source": [
    "# Function to reclassify values defined by a range of values \n",
    "# @param {ee.Image}: image CLC image\n",
    "# @param {number}: lowerLimit values higher or equal to this limit will be masked with new value\n",
    "# @param {number}: upperLimit values lower or equal to this limit will be masked with new value\n",
    "# @param {number}: newValue a new value masking the values within the specified range\n",
    "# @return {ee.Image}: image a reclassified CLC image\n",
    "def reclassifyCLC(image, lowerLimit, upperLimit, newValue):\n",
    "    mask = image.gte(lowerLimit).And(image.lte(upperLimit))\n",
    "    masked_image = image.where(mask, newValue)\n",
    "    return masked_image\n",
    "\n",
    "# Get the unique values from a CLC image\n",
    "def getUniqueValues(image):\n",
    "    imagedict = image.reduceRegion(reducer=ee.Reducer.toList())\n",
    "    return list(set(imagedict.getInfo()['landcover']))"
   ]
  },
  {
   "cell_type": "markdown",
   "id": "82778798",
   "metadata": {},
   "source": [
    "### Aggregate CLC classes to get clear division into natural, urban, forest/grasslands and agricultural areas"
   ]
  },
  {
   "cell_type": "code",
   "execution_count": null,
   "id": "0ff38916",
   "metadata": {},
   "outputs": [],
   "source": [
    "clc2018recl = reclassifyCLC(clc2018, 100, 133, 0)    # urban (111)\n",
    "clc2018recl = reclassifyCLC(clc2018recl, 141, 142, 1) # green urban areas (141)\n",
    "clc2018recl = reclassifyCLC(clc2018recl, 211, 244, 2) # agricultural areas (211)\n",
    "clc2018recl = reclassifyCLC(clc2018recl, 311, 335, 3) # forest and semi natural areas (311)\n",
    "clc2018recl = reclassifyCLC(clc2018recl, 411, 423, 4) # wetlands (411)\n",
    "clc2018recl = reclassifyCLC(clc2018recl, 511, 523, 5) # water bodies (511)\n",
    "\n",
    "clc2018recl = clc2018recl.set('landcover_class_values',clc_recl_values) \\\n",
    "                         .set('landcover_class_names',clc_recl_names) \\\n",
    "                         .set('landcover_class_palette', clc_recl_colors)\n",
    "\n",
    "Map.addLayer(clc2018recl, {}, 'CLC 2018 reclassified')"
   ]
  },
  {
   "cell_type": "markdown",
   "id": "4a4aa1e2",
   "metadata": {},
   "source": [
    "### Make the training dataset using ee.Image.sample method\n",
    "The scale and the projection is not specified, so the resolution of the image will be used"
   ]
  },
  {
   "cell_type": "code",
   "execution_count": null,
   "id": "7a2e65ed",
   "metadata": {
    "scrolled": true
   },
   "outputs": [],
   "source": [
    "sample_points = clc2018recl.sample(**{\n",
    "    'region': aoi,\n",
    "    'factor': 0.4,\n",
    "    'seed': 0, # Set this to reproduce results\n",
    "    'geometries': True  # Set this to False to ignore geometries\n",
    "})\n",
    "\n",
    "# sample_points = clc2018recl.stratifiedSample(**{\n",
    "#     'classBand': 'landcover',\n",
    "#     'region': aoi,\n",
    "#     'scale': 10.0,\n",
    "#     'projection': crs,\n",
    "#     'numPoints': 500, # minimum number of points to sample in each class\n",
    "#     'seed': 0, # Set this to reproduce results\n",
    "#     'geometries': False  # Set this to False to ignore geometries\n",
    "# })\n",
    "\n",
    "# sample_points = clc2018recl.stratifiedSample(**{\n",
    "#     'classBand': 'landcover',\n",
    "#     'region': aoi,\n",
    "#     'scale': 10.0,\n",
    "#     'projection': crs,\n",
    "#     'numPoints': 50, # minimum number of points to sample in each class\n",
    "#     'classValues': [0,1,2,3,4,5], # reclassified land cover classes\n",
    "#     'classPoints': [200,200,200,200,200,200], # maxium number of points to sample in each class \n",
    "#     'seed': 0, # Set this to reproduce results\n",
    "#     'geometries': False  # Set this to False to ignore geometries\n",
    "# })\n",
    "\n",
    "print('Number of training samples:',sample_points.size().getInfo())"
   ]
  },
  {
   "cell_type": "markdown",
   "id": "af2cfa45",
   "metadata": {},
   "source": [
    "### Get the training points from each imagery input"
   ]
  },
  {
   "cell_type": "code",
   "execution_count": null,
   "id": "b64f81a0",
   "metadata": {
    "scrolled": true
   },
   "outputs": [],
   "source": [
    "# Overlay the points on the S1 imagery to get training samples:\n",
    "training_points_S1 = S1composite_image_reprojected.sampleRegions(**{\n",
    "  'collection': sample_points,\n",
    "  'properties': ['landcover']\n",
    "})\n",
    "# Overlay the points on the S2 imagery to get training samples:\n",
    "training_points_S2 = S2_image_reprojected.sampleRegions(**{\n",
    "  'collection': sample_points,\n",
    "  'properties': ['landcover']\n",
    "})\n",
    "\n",
    "# Overlay the points on the S1-2 composite to get training samples:\n",
    "training_points_S12 = S12_image.sampleRegions(**{\n",
    "  'collection': sample_points,\n",
    "  'properties': ['landcover']\n",
    "})"
   ]
  },
  {
   "cell_type": "markdown",
   "id": "c280bdca",
   "metadata": {
    "scrolled": true
   },
   "source": [
    "### Train a Random Forest classifier"
   ]
  },
  {
   "cell_type": "code",
   "execution_count": null,
   "id": "ed79ad4f",
   "metadata": {},
   "outputs": [],
   "source": [
    "trained_points_S1 = ee.Classifier.smileRandomForest(500).train(training_points_S1,'landcover')\n",
    "trained_points_S2 = ee.Classifier.smileRandomForest(500).train(training_points_S2,'landcover')\n",
    "trained_points_S12 = ee.Classifier.smileRandomForest(500).train(training_points_S12,'landcover')"
   ]
  },
  {
   "cell_type": "markdown",
   "id": "dd58dd3f",
   "metadata": {},
   "source": [
    "### Classify the image with the same bands used for training"
   ]
  },
  {
   "cell_type": "code",
   "execution_count": null,
   "id": "56099bc4",
   "metadata": {},
   "outputs": [],
   "source": [
    "result_S1 = S1composite_image_reprojected.classify(trained_points_S1)\n",
    "result_S2 = S2_image_reprojected.classify(trained_points_S2)\n",
    "result_S12 = S12_image.classify(trained_points_S12)"
   ]
  },
  {
   "cell_type": "markdown",
   "id": "d914718b",
   "metadata": {},
   "source": [
    "### Prepare the CLC color palette"
   ]
  },
  {
   "cell_type": "code",
   "execution_count": null,
   "id": "7319fe74",
   "metadata": {},
   "outputs": [],
   "source": [
    "clc2018_values = clc2018recl.get('landcover_class_values').getInfo()\n",
    "clc2018_palette = clc2018recl.get('landcover_class_palette').getInfo()"
   ]
  },
  {
   "cell_type": "markdown",
   "id": "21d49f76",
   "metadata": {},
   "source": [
    "### Show classification results using CLC2018 palette "
   ]
  },
  {
   "cell_type": "code",
   "execution_count": null,
   "id": "d98d4a8b",
   "metadata": {},
   "outputs": [],
   "source": [
    "landcover_S1 = result_S1 \\\n",
    "                .set('classification_class_values', clc2018_values) \\\n",
    "                .set('classification_class_palette', clc2018_palette)\n",
    "landcover_S2 = result_S2 \\\n",
    "                .set('classification_class_values', clc2018_values) \\\n",
    "                .set('classification_class_palette', clc2018_palette) \n",
    "landcover_S12 = result_S12 \\\n",
    "                .set('classification_class_values', clc2018_values) \\\n",
    "                .set('classification_class_palette', clc2018_palette)"
   ]
  },
  {
   "cell_type": "markdown",
   "id": "883cc150",
   "metadata": {},
   "source": [
    "### Add to the map and show results"
   ]
  },
  {
   "cell_type": "code",
   "execution_count": null,
   "id": "c2b05307",
   "metadata": {
    "scrolled": false
   },
   "outputs": [],
   "source": [
    "#Map.addLayer(landcover_S1, {}, 'Land cover S1', False)\n",
    "#Map.addLayer(landcover_S2, {}, 'Land cover S2', False)\n",
    "Map.addLayer(landcover_S12, {}, 'Land cover S1-2: model 2018', False)\n",
    "Map.addLayer(sample_points, {}, 'sampling points', False)\n",
    "# Map.add_legend(legend_title=\"Corine Land Cover reclassified\", legend_dict=legend_dict)\n",
    "\n",
    "Map"
   ]
  },
  {
   "cell_type": "markdown",
   "id": "3fda8632",
   "metadata": {},
   "source": [
    "### Detect Land Use Change (LUC)"
   ]
  },
  {
   "cell_type": "code",
   "execution_count": null,
   "id": "72f31a26",
   "metadata": {},
   "outputs": [],
   "source": [
    "# Evaluate Land Use Change\n",
    "\n",
    "# LUC_class_table =  '''\n",
    "# Value\tColor\tDescription\n",
    "# 0\t#f8f8ce\tNo change\n",
    "# 1\t#b4ef86\tDeurbanisation\n",
    "# 2\t#b4ef86\tDeurbanisation\n",
    "# 3\t#05baae\tAfforestation\n",
    "# 4\t#b4ef86\tDeurbanisation\n",
    "# 5\t#b4ef86\tDeurbanisation\n",
    "# 6\t#e47474\tUrbanisation\n",
    "# 7\t#f8f8ce\tNo change\n",
    "# 8\t#efef86\tRetained / reclassified\n",
    "# 9\t#05baae\tAfforestation\n",
    "# 10\t#efef86\tRetained / reclassified\n",
    "# 11\t#efef86\tRetained / reclassified\n",
    "# 12\t#e47474\tUrbanisation\n",
    "# 13\t#efef86\tRetained / reclassified\n",
    "# 14\t#f8f8ce\tNo change\n",
    "# 15\t#05baae\tAfforestation\n",
    "# 16\t#efef86\tRetained / reclassified\n",
    "# 17\t#efef86\tRetained / reclassified\n",
    "# 18\t#e47474\tUrbanisation\n",
    "# 19\t#efef86\tRetained / reclassified\n",
    "# 20\t#e4749c\tNatural to agricultural areas\n",
    "# 21\t#f8f8ce\tNo change\n",
    "# 22\t#efef86\tRetained / reclassified\n",
    "# 23\t#efef86\tRetained / reclassified\n",
    "# 24\t#e47474\tUrbanisation\n",
    "# 25\t#efef86\tRetained / reclassified\n",
    "# 26\t#e4749c\tNatural to agricultural areas\n",
    "# 27\t#05baae\tAfforestation\n",
    "# 28\t#f8f8ce\tNo change\n",
    "# 29\t#efef86\tRetained / reclassified\n",
    "# 30\t#e47474\tUrbanisation\n",
    "# 31\t#efef86\tRetained / reclassified\n",
    "# 32\t#e4749c\tNatural to agricultural areas\n",
    "# 33\t#05baae\tAfforestation\n",
    "# 34\t#efef86\tRetained / reclassified\n",
    "# 35\t#f8f8ce\tNo change\n",
    "# '''\n",
    "\n",
    "LUC_class_table = \"\"\"\n",
    "Value\tColor\tDescription\n",
    "0\t#f8f8ce\tNo change\n",
    "1\t#efef86\tRetained / reclassified\n",
    "2\t#b4ef86\tDeurbanisation\n",
    "3\t#05baae\tAfforestation\n",
    "4\t#e47474\tUrbanisation\n",
    "5\t#e4749c\tNatural to agricultural areas\n",
    "\"\"\""
   ]
  },
  {
   "cell_type": "code",
   "execution_count": null,
   "id": "f25c9422",
   "metadata": {},
   "outputs": [],
   "source": [
    "print(' '.join(['LUC period:',str(startYear),'-',str(endYear)]))"
   ]
  },
  {
   "cell_type": "code",
   "execution_count": null,
   "id": "d7f9a015",
   "metadata": {},
   "outputs": [],
   "source": [
    "def getModelPeriod(imagesource, year): \n",
    "    if imagesource == 'S1':\n",
    "        period = getS1period(year)\n",
    "    elif imagesource == 'S2':\n",
    "        period = getS2periods(year)\n",
    "    else:\n",
    "        print('Select satellite input: \"S1\" or \"S2\"')\n",
    "    return period\n",
    "\n",
    "\n",
    "def getModelImage(imagesource, year):\n",
    "    period = getModelPeriod(imagesource, year)\n",
    "    if imagesource == 'S1':\n",
    "        image = createS1compositeImage(period)\n",
    "    else:\n",
    "        image = createS2compositeImage(period)\n",
    "    return image \n",
    "\n",
    "\n",
    "def getModelCompositeImage(year):\n",
    "    return getS1S2composite(getModelImage('S1',year),getModelImage('S2',year))\n",
    "\n",
    "\n",
    "def getLandUseModel(year):\n",
    "    if year >= 2018 and year <= 2021:\n",
    "        return getModelCompositeImage(year).classify(trained_points_S12)\n",
    "    elif year > 2014 and year < 2018:\n",
    "        return getModelImage('S1',year).classify(trained_points_S1)\n",
    "    else:\n",
    "        print('Selected year needs to be between 2015 and 2021!')\n",
    "\n",
    "        \n",
    "def getLandCoverModel(year):\n",
    "    return getLandUseModel(year) \\\n",
    "                .set('classification_class_values', clc2018_values) \\\n",
    "                .set('classification_class_palette', clc2018_palette) \\\n",
    "                .set('classification_class_names',clc_recl_names) \n",
    "\n",
    "\n",
    "def reclassifyLUC(LUC_image):\n",
    "    LUC_evaluated = LUC_image.remap(list(range(36)),[0,2,2,3,2,2,4,0,1,3,1,1,4,1,0,3,1,1,4,1,5,0,1,1,4,1,5,3,0,1,4,1,5,3,1,0])\n",
    "    return LUC_evaluated\n",
    "\n",
    "\n",
    "def getLandUseChange():\n",
    "    LU_start = getLandCoverModel(startYear)\n",
    "    #print(LU_start.getInfo())\n",
    "    LU_end = getLandCoverModel(endYear)\n",
    "    '''\n",
    "    LUC classes:\n",
    "    1-1: urban to urban\n",
    "    1-2: urban to green urban areas\n",
    "    ...\n",
    "    together 25 classes\n",
    "    '''\n",
    "    # Mask every possible combination of start - end classes and add to a Feature Collection\n",
    "    i = 0\n",
    "    alist=[]\n",
    "    classes_start = LU_start.get('classification_class_values').getInfo()\n",
    "    classes_end = LU_end.get('classification_class_values').getInfo()\n",
    "    landUseChange = LU_start.multiply(0)\n",
    "    for c_s in classes_start:\n",
    "        for c_e in classes_end:\n",
    "            mask = LU_start.select('classification').eq(c_s).And(LU_end.select('classification').eq(c_e))\n",
    "            landUseChange = landUseChange.where(mask, i)\n",
    "            i = i+1\n",
    "    \n",
    "    LUC_evaluated = reclassifyLUC(landUseChange)  \n",
    "    LUC_legend_dict = geemap.legend_from_ee(LUC_class_table)\n",
    "\n",
    "    LUC_evaluated.set('classification_class_values', [0,1,2,3,4,5]) \\\n",
    "                 .set('classification_class_palette', [ LUC_legend_dict[k] for k in LUC_legend_dict.keys()]) \\\n",
    "                 .set('classification_class_names', LUC_legend_dict.keys()) \n",
    "        \n",
    "    return LUC_evaluated, LUC_legend_dict"
   ]
  },
  {
   "cell_type": "markdown",
   "id": "4caef0e7",
   "metadata": {},
   "source": [
    "### Get the Land Use Change data"
   ]
  },
  {
   "cell_type": "code",
   "execution_count": null,
   "id": "0f5b1eab",
   "metadata": {},
   "outputs": [],
   "source": [
    "LUC, LUC_legend_dict = getLandUseChange()\n",
    "colors = [ LUC_legend_dict[k] for k in LUC_legend_dict.keys() ]"
   ]
  },
  {
   "cell_type": "markdown",
   "id": "4a46534d",
   "metadata": {},
   "source": [
    "### Add results to the map"
   ]
  },
  {
   "cell_type": "code",
   "execution_count": null,
   "id": "63a9a616",
   "metadata": {},
   "outputs": [],
   "source": [
    "Map.addLayer(getLandCoverModel(startYear),{},' '.join(['model LU cover',str(startYear)]))\n",
    "Map.addLayer(getLandCoverModel(endYear),{},' '.join(['model LU cover',str(endYear)]))\n",
    "Map.addLayer(LUC,{'palette': colors},(' ').join(['LUC between',str(startYear),'and',str(endYear)]))\n",
    "Map.add_legend(legend_title=\"LandUse Change\", legend_dict=LUC_legend_dict)\n",
    "Map"
   ]
  },
  {
   "cell_type": "markdown",
   "id": "d522cda8",
   "metadata": {},
   "source": [
    "## Sources"
   ]
  },
  {
   "cell_type": "markdown",
   "id": "eb3fa339",
   "metadata": {},
   "source": [
    "Supervised classification script based on: https://developers.google.com/earth-engine/guides/classification  \n",
    "Application functionality based on: https://geemap.org/notebooks/41_water_app/  \n",
    "Application layout uses widget templates and gridstack template:  \n",
    "https://blog.jupyter.org/introducing-templates-for-jupyter-widget-layouts-f72bcb35a662  \n",
    "https://blog.jupyter.org/voila-gridstack-template-8a431c2b353e  \n",
    "\n",
    "**References:**\n",
    "1) Abdikan, S., Sanli, F. B., Ustuner, M., & Calò, F. (2014, February). Land cover mapping using sentinel-1 SAR data. In The International Archives of the Photogrammetry, Remote Sensing and Spatial Information Sciences, Volume XLI-B7, 2016 XXIII ISPRS Congress.\n",
    "\n",
    "2) Saini, R., & Ghosh, S. K. (2018). CROP CLASSIFICATION ON SINGLE DATE SENTINEL-2 IMAGERY USING RANDOM FOREST AND SUPPOR VECTOR MACHINE. International Archives of the Photogrammetry, Remote Sensing & Spatial Information Sciences."
   ]
  }
 ],
 "metadata": {
  "kernelspec": {
   "display_name": "Python 3 (ipykernel)",
   "language": "python",
   "name": "python3"
  },
  "language_info": {
   "codemirror_mode": {
    "name": "ipython",
    "version": 3
   },
   "file_extension": ".py",
   "mimetype": "text/x-python",
   "name": "python",
   "nbconvert_exporter": "python",
   "pygments_lexer": "ipython3",
   "version": "3.8.16"
  }
 },
 "nbformat": 4,
 "nbformat_minor": 5
}
